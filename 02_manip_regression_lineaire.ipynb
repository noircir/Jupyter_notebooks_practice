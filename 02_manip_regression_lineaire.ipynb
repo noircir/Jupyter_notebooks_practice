{
 "cells": [
  {
   "cell_type": "code",
   "execution_count": 1,
   "metadata": {},
   "outputs": [
    {
     "name": "stdout",
     "output_type": "stream",
     "text": [
      "(506, 13)\n",
      "(506,)\n"
     ]
    }
   ],
   "source": [
    "#Charger les données du dataset boston housing\n",
    "from sklearn import datasets, linear_model\n",
    " \n",
    "# Charger le dataset de maison boston\n",
    "boston = datasets.load_boston()\n",
    "#data represente les prédicteurs et target la cible à prédire\n",
    "print(boston.data.shape)\n",
    "print(boston.target.shape)\n"
   ]
  },
  {
   "cell_type": "code",
   "execution_count": 2,
   "metadata": {},
   "outputs": [
    {
     "name": "stdout",
     "output_type": "stream",
     "text": [
      "['CRIM' 'ZN' 'INDUS' 'CHAS' 'NOX' 'RM' 'AGE' 'DIS' 'RAD' 'TAX' 'PTRATIO'\n",
      " 'B' 'LSTAT']\n",
      "[[6.3200e-03 1.8000e+01 2.3100e+00 0.0000e+00 5.3800e-01 6.5750e+00\n",
      "  6.5200e+01 4.0900e+00 1.0000e+00 2.9600e+02]\n",
      " [2.7310e-02 0.0000e+00 7.0700e+00 0.0000e+00 4.6900e-01 6.4210e+00\n",
      "  7.8900e+01 4.9671e+00 2.0000e+00 2.4200e+02]\n",
      " [2.7290e-02 0.0000e+00 7.0700e+00 0.0000e+00 4.6900e-01 7.1850e+00\n",
      "  6.1100e+01 4.9671e+00 2.0000e+00 2.4200e+02]\n",
      " [3.2370e-02 0.0000e+00 2.1800e+00 0.0000e+00 4.5800e-01 6.9980e+00\n",
      "  4.5800e+01 6.0622e+00 3.0000e+00 2.2200e+02]\n",
      " [6.9050e-02 0.0000e+00 2.1800e+00 0.0000e+00 4.5800e-01 7.1470e+00\n",
      "  5.4200e+01 6.0622e+00 3.0000e+00 2.2200e+02]]\n",
      "[24.  21.6 34.7 33.4 36.2]\n",
      "5.0 50.0 22.532806324110677\n"
     ]
    }
   ],
   "source": [
    "import numpy as np\n",
    "#afficher les noms des colonnes features\n",
    "print(boston.feature_names)\n",
    "#données sur les 5 premiers enregistrements predicteurs\n",
    "print(boston.data[:5,:10] )\n",
    "#données sur les 5 premiers enregistrements cibles\n",
    "print(boston.target[:5,] )\n",
    "#max, mean et moyenne\n",
    "print(min(boston.target ),max(boston.target ), np.mean(boston.target))\n"
   ]
  },
  {
   "cell_type": "code",
   "execution_count": 6,
   "metadata": {},
   "outputs": [],
   "source": [
    "# Décomposer les données prédicteurs en training/testing  \n",
    "#ensemble apprentissage et test\n",
    "from sklearn.model_selection import train_test_split\n",
    "X_train, X_test, y_train, y_test =train_test_split(boston.data, boston.target, test_size=0.25,\n",
    "random_state=33)"
   ]
  },
  {
   "cell_type": "code",
   "execution_count": 7,
   "metadata": {},
   "outputs": [],
   "source": [
    "#Effectuer un scaling approprié autour de la moyenne et variance\n",
    "from sklearn.preprocessing import StandardScaler\n",
    "scalerX = StandardScaler().fit(X_train)\n",
    "scalery = StandardScaler().fit(y_train.reshape(-1, 1))\n",
    "X_train = scalerX.transform(X_train)\n",
    "y_train = scalery.transform(y_train.reshape(-1, 1))\n",
    "\n",
    "# Décomposer les cibles-targets en training/testing  \n",
    "X_test = scalerX.transform(X_test)\n",
    "y_test = scalery.transform(y_test.reshape(-1, 1))"
   ]
  },
  {
   "cell_type": "code",
   "execution_count": 10,
   "metadata": {},
   "outputs": [
    {
     "data": {
      "text/plain": [
       "SGDRegressor(alpha=0.0001, average=False, epsilon=0.1, eta0=0.01,\n",
       "       fit_intercept=True, l1_ratio=0.15, learning_rate='invscaling',\n",
       "       loss='squared_loss', max_iter=5, n_iter=None, penalty=None,\n",
       "       power_t=0.25, random_state=42, shuffle=True, tol=None, verbose=0,\n",
       "       warm_start=False)"
      ]
     },
     "execution_count": 10,
     "metadata": {},
     "output_type": "execute_result"
    }
   ],
   "source": [
    "# Créer l'objet linear regression  \n",
    "#On utilise dans la manipulation: SGRegressor\n",
    "from sklearn import linear_model\n",
    "clf_sgd = linear_model.SGDRegressor(loss='squared_loss', max_iter=5,tol=None\n",
    "                                    ,penalty=None, random_state=42)\n",
    "# Faire apprendre le model en utilisant les training set\n",
    "from sklearn.utils import column_or_1d\n",
    "clf_sgd.fit(X_train, y_train.ravel())"
   ]
  },
  {
   "cell_type": "code",
   "execution_count": 12,
   "metadata": {},
   "outputs": [
    {
     "name": "stdout",
     "output_type": "stream",
     "text": [
      "Coefficients du modele: \n",
      " [-0.08527595  0.06706144 -0.05032898  0.10874804 -0.07755151  0.38961893\n",
      " -0.02485839 -0.20990016  0.08491659 -0.05495108 -0.19854006  0.06126093\n",
      " -0.37817963]\n",
      "Coefficient de determination sur échantillon apprentissage: 0.7436177329830429\n",
      "Residual sum of squares: 1.74\n"
     ]
    }
   ],
   "source": [
    "# Affichage des coefficient\n",
    "print('Coefficients du modele: \\n', clf_sgd.coef_)\n",
    "print (\"Coefficient de determination sur échantillon apprentissage:\",clf_sgd.score(X_train, y_train))\n",
    "# mean square error\n",
    "print(\"Residual sum of squares: %.2f\" % np.mean((clf_sgd.predict(X_test) - y_test) ** 2))\n",
    "from sklearn.cross_validation import  KFold, cross_val_score"
   ]
  },
  {
   "cell_type": "code",
   "execution_count": 13,
   "metadata": {},
   "outputs": [
    {
     "name": "stdout",
     "output_type": "stream",
     "text": [
      "Moyenne coefficient de determination avec 5-fold crossvalidation: 0.710809853467987\n"
     ]
    }
   ],
   "source": [
    "# créer un iterateur de cross validation k-fold avec k=5  \n",
    "cv = KFold(X_train.shape[0], 5, shuffle=True, random_state=33)\n",
    "scores = cross_val_score(clf_sgd, X_train, y_train.ravel(), cv=cv)\n",
    "print (\"Moyenne coefficient de determination avec 5-fold crossvalidation:\",np.mean(scores))"
   ]
  },
  {
   "cell_type": "code",
   "execution_count": 14,
   "metadata": {},
   "outputs": [
    {
     "name": "stdout",
     "output_type": "stream",
     "text": [
      "Coefficient de determination:0.650\n"
     ]
    }
   ],
   "source": [
    "#mesurer la performance\n",
    "from sklearn import metrics\n",
    "y_pred = clf_sgd.predict(X_test)\n",
    "\n",
    "\n",
    "print (\"Coefficient de determination:{0:.3f}\".format( metrics.r2_score(y_test, y_pred)))"
   ]
  },
  {
   "cell_type": "code",
   "execution_count": 15,
   "metadata": {},
   "outputs": [
    {
     "name": "stdout",
     "output_type": "stream",
     "text": [
      "Valeurs test\n",
      "[20.5  5.6 13.4 12.6 21.2 19.7 32.4 14.8 33.  21.4 30.1 36.   8.4 21.6\n",
      " 16.3 23.  14.9 14.1 31.1 11.9]\n",
      "Valeurs predictions\n",
      "[17.86168902 11.20481844 12.59659411 18.26835226 22.79682648 20.94382003\n",
      " 36.22456352 15.49643251 25.90565528 19.73100676 26.67818312 36.91162851\n",
      "  5.54809594 25.27292996  9.23896277 24.43412054 17.71033053 18.49341656\n",
      " 32.44735562 22.14639134]\n"
     ]
    }
   ],
   "source": [
    "\n",
    "import matplotlib.pyplot as plt\n",
    "y_pred = clf_sgd.predict(X_test)\n",
    "#on recouvre les valeurs par inversion de valeurs\n",
    "print(\"Valeurs test\")\n",
    "print(scalery.inverse_transform(y_test[:20].ravel()))\n",
    "print(\"Valeurs predictions\")\n",
    "print(scalery.inverse_transform(y_pred[:20]))"
   ]
  },
  {
   "cell_type": "code",
   "execution_count": null,
   "metadata": {},
   "outputs": [],
   "source": []
  },
  {
   "cell_type": "code",
   "execution_count": null,
   "metadata": {},
   "outputs": [],
   "source": []
  }
 ],
 "metadata": {
  "kernelspec": {
   "display_name": "Python 3",
   "language": "python",
   "name": "python3"
  },
  "language_info": {
   "codemirror_mode": {
    "name": "ipython",
    "version": 3
   },
   "file_extension": ".py",
   "mimetype": "text/x-python",
   "name": "python",
   "nbconvert_exporter": "python",
   "pygments_lexer": "ipython3",
   "version": "3.7.3"
  }
 },
 "nbformat": 4,
 "nbformat_minor": 2
}
